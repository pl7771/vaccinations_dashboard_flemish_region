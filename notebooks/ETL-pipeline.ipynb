{
 "cells": [
  {
   "cell_type": "code",
   "execution_count": 1,
   "id": "fcad8189",
   "metadata": {},
   "outputs": [],
   "source": [
    "import os\n",
    "import sys\n",
    "module_path = os.path.abspath(os.path.join('..'))\n",
    "if module_path not in sys.path:\n",
    "    sys.path.append(module_path)"
   ]
  },
  {
   "cell_type": "code",
   "execution_count": 26,
   "id": "f623ddf0",
   "metadata": {},
   "outputs": [],
   "source": [
    "import pandas as pd"
   ]
  },
  {
   "cell_type": "code",
   "execution_count": 35,
   "id": "6ffb0ddd",
   "metadata": {},
   "outputs": [],
   "source": [
    "from app.etl.pipeline import Pipeline\n",
    "from app.models.models import CovidVaccinationByCategory"
   ]
  },
  {
   "cell_type": "code",
   "execution_count": 44,
   "id": "bcb37a25",
   "metadata": {},
   "outputs": [],
   "source": [
    "from sqlalchemy.orm import declarative_base\n",
    "from sqlalchemy.sql.schema import Column\n",
    "from sqlalchemy.sql.sqltypes import Date\n",
    "from sqlalchemy.sql.sqltypes import Integer\n",
    "from sqlalchemy.sql.sqltypes import String\n",
    "\n",
    "Base = declarative_base()"
   ]
  },
  {
   "cell_type": "code",
   "execution_count": 45,
   "id": "8e0c1a6f",
   "metadata": {},
   "outputs": [],
   "source": [
    "class CovidVaccinationByCategory(Base):\n",
    "    __tablename__ = \"covid_vaccinations_by_category\"\n",
    "    id = Column(Integer, primary_key=True, nullable=False)\n",
    "    date = Column(Date, nullable=False)\n",
    "    region = Column(String, nullable=False)\n",
    "    agegroup = Column(String, nullable=False)\n",
    "    sex = Column(String, nullable=False)\n",
    "    brand = Column(String, nullable=False)\n",
    "    dose = Column(String, nullable=False)\n",
    "    count = Column(Integer, nullable=False)\n",
    "\n",
    "    def __repr__(self):\n",
    "        return \"\"\"\n",
    "            <BelgiumVacinationByCategory(date='%s', region='%s', agegroup='%s')>\n",
    "            \"\"\" % (\n",
    "            self.date,\n",
    "            self.region,\n",
    "            self.agegroup,\n",
    "        )\n"
   ]
  },
  {
   "cell_type": "code",
   "execution_count": 46,
   "id": "1d8acfee",
   "metadata": {},
   "outputs": [],
   "source": [
    "class Transformer():\n",
    "    def __init__(\n",
    "        self,\n",
    "        column_renamer: dict = None,\n",
    "        na_remover: bool = True,\n",
    "        drop_columns: list = None\n",
    "    ):\n",
    "        self.column_renamer = column_renamer\n",
    "        self.na_remover = na_remover\n",
    "        self.drop_columns = drop_columns\n",
    "        \n",
    "    def transform(self, data_frame: pd.DataFrame):\n",
    "        if self.drop_columns:\n",
    "            data_frame.drop(self.drop_columns, axis=1, inplace=True)\n",
    "        if self.column_renamer:\n",
    "            data_frame.rename(columns=self.column_renamer, inplace=True)\n",
    "        if self.na_remover:\n",
    "            data_frame.dropna(inplace=True)\n",
    "\n",
    "        return data_frame\n"
   ]
  },
  {
   "cell_type": "code",
   "execution_count": 47,
   "id": "28d91d74",
   "metadata": {},
   "outputs": [],
   "source": [
    "transformer = Transformer(\n",
    "    column_renamer= {\n",
    "        \"DATE\": \"date\",\n",
    "        \"REGION\": \"region\",\n",
    "        \"AGEGROUP\": \"agegroup\",\n",
    "        \"SEX\": \"sex\",\n",
    "        \"BRAND\": \"brand\",\n",
    "        \"DOSE\": \"dose\",\n",
    "        \"COUNT\": \"count\",\n",
    "    }\n",
    ")"
   ]
  },
  {
   "cell_type": "code",
   "execution_count": 48,
   "id": "5a117866",
   "metadata": {},
   "outputs": [],
   "source": [
    "pipeline = Pipeline(\n",
    "    CovidVaccinationByCategory,\n",
    "    path=\"https://epistat.sciensano.be/Data/COVID19BE_VACC.csv\",\n",
    "    transformer=transformer,\n",
    ")"
   ]
  },
  {
   "cell_type": "code",
   "execution_count": 49,
   "id": "aa019330",
   "metadata": {},
   "outputs": [],
   "source": [
    "df_extracted = pipeline.extract()\n",
    "df = df_extracted.copy(deep=True)"
   ]
  },
  {
   "cell_type": "code",
   "execution_count": 52,
   "id": "f632cedb",
   "metadata": {
    "scrolled": true
   },
   "outputs": [
    {
     "data": {
      "text/html": [
       "<div>\n",
       "<style scoped>\n",
       "    .dataframe tbody tr th:only-of-type {\n",
       "        vertical-align: middle;\n",
       "    }\n",
       "\n",
       "    .dataframe tbody tr th {\n",
       "        vertical-align: top;\n",
       "    }\n",
       "\n",
       "    .dataframe thead th {\n",
       "        text-align: right;\n",
       "    }\n",
       "</style>\n",
       "<table border=\"1\" class=\"dataframe\">\n",
       "  <thead>\n",
       "    <tr style=\"text-align: right;\">\n",
       "      <th></th>\n",
       "      <th>DATE</th>\n",
       "      <th>REGION</th>\n",
       "      <th>AGEGROUP</th>\n",
       "      <th>SEX</th>\n",
       "      <th>BRAND</th>\n",
       "      <th>DOSE</th>\n",
       "      <th>COUNT</th>\n",
       "    </tr>\n",
       "  </thead>\n",
       "  <tbody>\n",
       "    <tr>\n",
       "      <th>0</th>\n",
       "      <td>2020-12-28</td>\n",
       "      <td>Brussels</td>\n",
       "      <td>25-34</td>\n",
       "      <td>F</td>\n",
       "      <td>Pfizer-BioNTech</td>\n",
       "      <td>A</td>\n",
       "      <td>1</td>\n",
       "    </tr>\n",
       "    <tr>\n",
       "      <th>1</th>\n",
       "      <td>2020-12-28</td>\n",
       "      <td>Brussels</td>\n",
       "      <td>45-54</td>\n",
       "      <td>F</td>\n",
       "      <td>Pfizer-BioNTech</td>\n",
       "      <td>A</td>\n",
       "      <td>2</td>\n",
       "    </tr>\n",
       "    <tr>\n",
       "      <th>2</th>\n",
       "      <td>2020-12-28</td>\n",
       "      <td>Brussels</td>\n",
       "      <td>55-64</td>\n",
       "      <td>F</td>\n",
       "      <td>Pfizer-BioNTech</td>\n",
       "      <td>A</td>\n",
       "      <td>3</td>\n",
       "    </tr>\n",
       "    <tr>\n",
       "      <th>3</th>\n",
       "      <td>2020-12-28</td>\n",
       "      <td>Brussels</td>\n",
       "      <td>55-64</td>\n",
       "      <td>M</td>\n",
       "      <td>Pfizer-BioNTech</td>\n",
       "      <td>A</td>\n",
       "      <td>1</td>\n",
       "    </tr>\n",
       "    <tr>\n",
       "      <th>4</th>\n",
       "      <td>2020-12-28</td>\n",
       "      <td>Brussels</td>\n",
       "      <td>65-74</td>\n",
       "      <td>F</td>\n",
       "      <td>Pfizer-BioNTech</td>\n",
       "      <td>A</td>\n",
       "      <td>2</td>\n",
       "    </tr>\n",
       "  </tbody>\n",
       "</table>\n",
       "</div>"
      ],
      "text/plain": [
       "         DATE    REGION AGEGROUP SEX            BRAND DOSE  COUNT\n",
       "0  2020-12-28  Brussels    25-34   F  Pfizer-BioNTech    A      1\n",
       "1  2020-12-28  Brussels    45-54   F  Pfizer-BioNTech    A      2\n",
       "2  2020-12-28  Brussels    55-64   F  Pfizer-BioNTech    A      3\n",
       "3  2020-12-28  Brussels    55-64   M  Pfizer-BioNTech    A      1\n",
       "4  2020-12-28  Brussels    65-74   F  Pfizer-BioNTech    A      2"
      ]
     },
     "execution_count": 52,
     "metadata": {},
     "output_type": "execute_result"
    }
   ],
   "source": [
    "df_extracted.head()"
   ]
  },
  {
   "cell_type": "code",
   "execution_count": 41,
   "id": "19050af0",
   "metadata": {},
   "outputs": [
    {
     "data": {
      "text/html": [
       "<div>\n",
       "<style scoped>\n",
       "    .dataframe tbody tr th:only-of-type {\n",
       "        vertical-align: middle;\n",
       "    }\n",
       "\n",
       "    .dataframe tbody tr th {\n",
       "        vertical-align: top;\n",
       "    }\n",
       "\n",
       "    .dataframe thead th {\n",
       "        text-align: right;\n",
       "    }\n",
       "</style>\n",
       "<table border=\"1\" class=\"dataframe\">\n",
       "  <thead>\n",
       "    <tr style=\"text-align: right;\">\n",
       "      <th></th>\n",
       "      <th>COUNT</th>\n",
       "    </tr>\n",
       "  </thead>\n",
       "  <tbody>\n",
       "    <tr>\n",
       "      <th>count</th>\n",
       "      <td>100628.000000</td>\n",
       "    </tr>\n",
       "    <tr>\n",
       "      <th>mean</th>\n",
       "      <td>171.647384</td>\n",
       "    </tr>\n",
       "    <tr>\n",
       "      <th>std</th>\n",
       "      <td>933.715033</td>\n",
       "    </tr>\n",
       "    <tr>\n",
       "      <th>min</th>\n",
       "      <td>1.000000</td>\n",
       "    </tr>\n",
       "    <tr>\n",
       "      <th>25%</th>\n",
       "      <td>2.000000</td>\n",
       "    </tr>\n",
       "    <tr>\n",
       "      <th>50%</th>\n",
       "      <td>9.000000</td>\n",
       "    </tr>\n",
       "    <tr>\n",
       "      <th>75%</th>\n",
       "      <td>57.000000</td>\n",
       "    </tr>\n",
       "    <tr>\n",
       "      <th>max</th>\n",
       "      <td>37524.000000</td>\n",
       "    </tr>\n",
       "  </tbody>\n",
       "</table>\n",
       "</div>"
      ],
      "text/plain": [
       "               COUNT\n",
       "count  100628.000000\n",
       "mean      171.647384\n",
       "std       933.715033\n",
       "min         1.000000\n",
       "25%         2.000000\n",
       "50%         9.000000\n",
       "75%        57.000000\n",
       "max     37524.000000"
      ]
     },
     "execution_count": 41,
     "metadata": {},
     "output_type": "execute_result"
    }
   ],
   "source": [
    "df_extracted.describe()"
   ]
  },
  {
   "cell_type": "code",
   "execution_count": 55,
   "id": "e60cbddc",
   "metadata": {},
   "outputs": [
    {
     "data": {
      "text/plain": [
       "DATE        object\n",
       "REGION      object\n",
       "AGEGROUP    object\n",
       "SEX         object\n",
       "BRAND       object\n",
       "DOSE        object\n",
       "COUNT        int64\n",
       "dtype: object"
      ]
     },
     "execution_count": 55,
     "metadata": {},
     "output_type": "execute_result"
    }
   ],
   "source": [
    "df_extracted.dtypes"
   ]
  },
  {
   "cell_type": "code",
   "execution_count": 56,
   "id": "d15c4af4",
   "metadata": {},
   "outputs": [
    {
     "name": "stdout",
     "output_type": "stream",
     "text": [
      "<class 'pandas.core.frame.DataFrame'>\n",
      "RangeIndex: 100628 entries, 0 to 100627\n",
      "Data columns (total 7 columns):\n",
      " #   Column    Non-Null Count   Dtype \n",
      "---  ------    --------------   ----- \n",
      " 0   DATE      100628 non-null  object\n",
      " 1   REGION    82763 non-null   object\n",
      " 2   AGEGROUP  100628 non-null  object\n",
      " 3   SEX       100045 non-null  object\n",
      " 4   BRAND     100628 non-null  object\n",
      " 5   DOSE      100628 non-null  object\n",
      " 6   COUNT     100628 non-null  int64 \n",
      "dtypes: int64(1), object(6)\n",
      "memory usage: 5.4+ MB\n"
     ]
    }
   ],
   "source": [
    "df_extracted.info()"
   ]
  },
  {
   "cell_type": "code",
   "execution_count": 59,
   "id": "9df464db",
   "metadata": {},
   "outputs": [],
   "source": [
    "df[\"DATE_CONVERTED\"] = pd.to_datetime(df['DATE'])"
   ]
  },
  {
   "cell_type": "code",
   "execution_count": 60,
   "id": "b15a7be6",
   "metadata": {},
   "outputs": [
    {
     "name": "stdout",
     "output_type": "stream",
     "text": [
      "<class 'pandas.core.frame.DataFrame'>\n",
      "RangeIndex: 100628 entries, 0 to 100627\n",
      "Data columns (total 8 columns):\n",
      " #   Column          Non-Null Count   Dtype         \n",
      "---  ------          --------------   -----         \n",
      " 0   DATE            100628 non-null  object        \n",
      " 1   REGION          82763 non-null   object        \n",
      " 2   AGEGROUP        100628 non-null  object        \n",
      " 3   SEX             100045 non-null  object        \n",
      " 4   BRAND           100628 non-null  object        \n",
      " 5   DOSE            100628 non-null  object        \n",
      " 6   COUNT           100628 non-null  int64         \n",
      " 7   DATE_CONVERTED  100628 non-null  datetime64[ns]\n",
      "dtypes: datetime64[ns](1), int64(1), object(6)\n",
      "memory usage: 6.1+ MB\n"
     ]
    }
   ],
   "source": [
    "df.info()"
   ]
  },
  {
   "cell_type": "code",
   "execution_count": 62,
   "id": "6804122d",
   "metadata": {},
   "outputs": [
    {
     "data": {
      "text/plain": [
       "Index(['DATE', 'REGION', 'AGEGROUP', 'SEX', 'BRAND', 'DOSE', 'COUNT',\n",
       "       'DATE_CONVERTED'],\n",
       "      dtype='object')"
      ]
     },
     "execution_count": 62,
     "metadata": {},
     "output_type": "execute_result"
    }
   ],
   "source": [
    "df.columns"
   ]
  },
  {
   "cell_type": "code",
   "execution_count": 66,
   "id": "d9c2ab62",
   "metadata": {},
   "outputs": [
    {
     "data": {
      "text/plain": [
       "array(['Brussels', 'Flanders', nan, 'Wallonia', 'Ostbelgien'],\n",
       "      dtype=object)"
      ]
     },
     "execution_count": 66,
     "metadata": {},
     "output_type": "execute_result"
    }
   ],
   "source": [
    "df['REGION'].unique()"
   ]
  },
  {
   "cell_type": "code",
   "execution_count": 65,
   "id": "791d28d1",
   "metadata": {},
   "outputs": [
    {
     "data": {
      "text/plain": [
       "array(['25-34', '45-54', '55-64', '65-74', '75-84', '85+', '35-44',\n",
       "       '18-24', '16-17', '00-11', '12-15'], dtype=object)"
      ]
     },
     "execution_count": 65,
     "metadata": {},
     "output_type": "execute_result"
    }
   ],
   "source": [
    "df['AGEGROUP'].unique()"
   ]
  },
  {
   "cell_type": "code",
   "execution_count": 67,
   "id": "4a5d58ee",
   "metadata": {},
   "outputs": [
    {
     "data": {
      "text/plain": [
       "array(['F', 'M', nan], dtype=object)"
      ]
     },
     "execution_count": 67,
     "metadata": {},
     "output_type": "execute_result"
    }
   ],
   "source": [
    "df['SEX'].unique()"
   ]
  },
  {
   "cell_type": "code",
   "execution_count": 68,
   "id": "3e901806",
   "metadata": {},
   "outputs": [
    {
     "data": {
      "text/plain": [
       "array(['Pfizer-BioNTech', 'Moderna', 'Johnson&Johnson', 'Other',\n",
       "       'AstraZeneca-Oxford'], dtype=object)"
      ]
     },
     "execution_count": 68,
     "metadata": {},
     "output_type": "execute_result"
    }
   ],
   "source": [
    "df['BRAND'].unique()"
   ]
  },
  {
   "cell_type": "code",
   "execution_count": 69,
   "id": "c7f82a5c",
   "metadata": {},
   "outputs": [
    {
     "data": {
      "text/plain": [
       "array(['A', 'C', 'B', 'E'], dtype=object)"
      ]
     },
     "execution_count": 69,
     "metadata": {},
     "output_type": "execute_result"
    }
   ],
   "source": [
    "df['DOSE'].unique()"
   ]
  },
  {
   "cell_type": "code",
   "execution_count": null,
   "id": "8e1635fc",
   "metadata": {},
   "outputs": [],
   "source": []
  },
  {
   "cell_type": "code",
   "execution_count": 17,
   "id": "56df569c",
   "metadata": {},
   "outputs": [
    {
     "name": "stdout",
     "output_type": "stream",
     "text": [
      "date        object\n",
      "region      object\n",
      "agegroup    object\n",
      "sex         object\n",
      "brand       object\n",
      "dose        object\n",
      "count        int64\n",
      "dtype: object\n"
     ]
    }
   ],
   "source": [
    "df_transformed = pipeline.transform(df)"
   ]
  },
  {
   "cell_type": "code",
   "execution_count": 18,
   "id": "a6295ede",
   "metadata": {},
   "outputs": [
    {
     "data": {
      "text/html": [
       "<div>\n",
       "<style scoped>\n",
       "    .dataframe tbody tr th:only-of-type {\n",
       "        vertical-align: middle;\n",
       "    }\n",
       "\n",
       "    .dataframe tbody tr th {\n",
       "        vertical-align: top;\n",
       "    }\n",
       "\n",
       "    .dataframe thead th {\n",
       "        text-align: right;\n",
       "    }\n",
       "</style>\n",
       "<table border=\"1\" class=\"dataframe\">\n",
       "  <thead>\n",
       "    <tr style=\"text-align: right;\">\n",
       "      <th></th>\n",
       "      <th>date</th>\n",
       "      <th>region</th>\n",
       "      <th>agegroup</th>\n",
       "      <th>sex</th>\n",
       "      <th>brand</th>\n",
       "      <th>dose</th>\n",
       "      <th>count</th>\n",
       "    </tr>\n",
       "  </thead>\n",
       "  <tbody>\n",
       "    <tr>\n",
       "      <th>0</th>\n",
       "      <td>2020-12-28</td>\n",
       "      <td>Brussels</td>\n",
       "      <td>25-34</td>\n",
       "      <td>F</td>\n",
       "      <td>Pfizer-BioNTech</td>\n",
       "      <td>A</td>\n",
       "      <td>1</td>\n",
       "    </tr>\n",
       "    <tr>\n",
       "      <th>1</th>\n",
       "      <td>2020-12-28</td>\n",
       "      <td>Brussels</td>\n",
       "      <td>45-54</td>\n",
       "      <td>F</td>\n",
       "      <td>Pfizer-BioNTech</td>\n",
       "      <td>A</td>\n",
       "      <td>2</td>\n",
       "    </tr>\n",
       "    <tr>\n",
       "      <th>2</th>\n",
       "      <td>2020-12-28</td>\n",
       "      <td>Brussels</td>\n",
       "      <td>55-64</td>\n",
       "      <td>F</td>\n",
       "      <td>Pfizer-BioNTech</td>\n",
       "      <td>A</td>\n",
       "      <td>3</td>\n",
       "    </tr>\n",
       "    <tr>\n",
       "      <th>3</th>\n",
       "      <td>2020-12-28</td>\n",
       "      <td>Brussels</td>\n",
       "      <td>55-64</td>\n",
       "      <td>M</td>\n",
       "      <td>Pfizer-BioNTech</td>\n",
       "      <td>A</td>\n",
       "      <td>1</td>\n",
       "    </tr>\n",
       "    <tr>\n",
       "      <th>4</th>\n",
       "      <td>2020-12-28</td>\n",
       "      <td>Brussels</td>\n",
       "      <td>65-74</td>\n",
       "      <td>F</td>\n",
       "      <td>Pfizer-BioNTech</td>\n",
       "      <td>A</td>\n",
       "      <td>2</td>\n",
       "    </tr>\n",
       "  </tbody>\n",
       "</table>\n",
       "</div>"
      ],
      "text/plain": [
       "         date    region agegroup sex            brand dose  count\n",
       "0  2020-12-28  Brussels    25-34   F  Pfizer-BioNTech    A      1\n",
       "1  2020-12-28  Brussels    45-54   F  Pfizer-BioNTech    A      2\n",
       "2  2020-12-28  Brussels    55-64   F  Pfizer-BioNTech    A      3\n",
       "3  2020-12-28  Brussels    55-64   M  Pfizer-BioNTech    A      1\n",
       "4  2020-12-28  Brussels    65-74   F  Pfizer-BioNTech    A      2"
      ]
     },
     "execution_count": 18,
     "metadata": {},
     "output_type": "execute_result"
    }
   ],
   "source": [
    "df_transformed.head()"
   ]
  },
  {
   "cell_type": "code",
   "execution_count": 19,
   "id": "67efc0a1",
   "metadata": {},
   "outputs": [
    {
     "data": {
      "text/html": [
       "<div>\n",
       "<style scoped>\n",
       "    .dataframe tbody tr th:only-of-type {\n",
       "        vertical-align: middle;\n",
       "    }\n",
       "\n",
       "    .dataframe tbody tr th {\n",
       "        vertical-align: top;\n",
       "    }\n",
       "\n",
       "    .dataframe thead th {\n",
       "        text-align: right;\n",
       "    }\n",
       "</style>\n",
       "<table border=\"1\" class=\"dataframe\">\n",
       "  <thead>\n",
       "    <tr style=\"text-align: right;\">\n",
       "      <th></th>\n",
       "      <th>DATE</th>\n",
       "      <th>REGION</th>\n",
       "      <th>AGEGROUP</th>\n",
       "      <th>SEX</th>\n",
       "      <th>BRAND</th>\n",
       "      <th>DOSE</th>\n",
       "      <th>COUNT</th>\n",
       "    </tr>\n",
       "  </thead>\n",
       "  <tbody>\n",
       "    <tr>\n",
       "      <th>0</th>\n",
       "      <td>2020-12-28</td>\n",
       "      <td>Brussels</td>\n",
       "      <td>25-34</td>\n",
       "      <td>F</td>\n",
       "      <td>Pfizer-BioNTech</td>\n",
       "      <td>A</td>\n",
       "      <td>1</td>\n",
       "    </tr>\n",
       "    <tr>\n",
       "      <th>1</th>\n",
       "      <td>2020-12-28</td>\n",
       "      <td>Brussels</td>\n",
       "      <td>45-54</td>\n",
       "      <td>F</td>\n",
       "      <td>Pfizer-BioNTech</td>\n",
       "      <td>A</td>\n",
       "      <td>2</td>\n",
       "    </tr>\n",
       "    <tr>\n",
       "      <th>2</th>\n",
       "      <td>2020-12-28</td>\n",
       "      <td>Brussels</td>\n",
       "      <td>55-64</td>\n",
       "      <td>F</td>\n",
       "      <td>Pfizer-BioNTech</td>\n",
       "      <td>A</td>\n",
       "      <td>3</td>\n",
       "    </tr>\n",
       "    <tr>\n",
       "      <th>3</th>\n",
       "      <td>2020-12-28</td>\n",
       "      <td>Brussels</td>\n",
       "      <td>55-64</td>\n",
       "      <td>M</td>\n",
       "      <td>Pfizer-BioNTech</td>\n",
       "      <td>A</td>\n",
       "      <td>1</td>\n",
       "    </tr>\n",
       "    <tr>\n",
       "      <th>4</th>\n",
       "      <td>2020-12-28</td>\n",
       "      <td>Brussels</td>\n",
       "      <td>65-74</td>\n",
       "      <td>F</td>\n",
       "      <td>Pfizer-BioNTech</td>\n",
       "      <td>A</td>\n",
       "      <td>2</td>\n",
       "    </tr>\n",
       "  </tbody>\n",
       "</table>\n",
       "</div>"
      ],
      "text/plain": [
       "         DATE    REGION AGEGROUP SEX            BRAND DOSE  COUNT\n",
       "0  2020-12-28  Brussels    25-34   F  Pfizer-BioNTech    A      1\n",
       "1  2020-12-28  Brussels    45-54   F  Pfizer-BioNTech    A      2\n",
       "2  2020-12-28  Brussels    55-64   F  Pfizer-BioNTech    A      3\n",
       "3  2020-12-28  Brussels    55-64   M  Pfizer-BioNTech    A      1\n",
       "4  2020-12-28  Brussels    65-74   F  Pfizer-BioNTech    A      2"
      ]
     },
     "execution_count": 19,
     "metadata": {},
     "output_type": "execute_result"
    }
   ],
   "source": [
    "df_extracted.head()"
   ]
  },
  {
   "cell_type": "code",
   "execution_count": null,
   "id": "a14a059f",
   "metadata": {},
   "outputs": [],
   "source": []
  },
  {
   "cell_type": "code",
   "execution_count": 22,
   "id": "665acfae",
   "metadata": {},
   "outputs": [
    {
     "name": "stdout",
     "output_type": "stream",
     "text": [
      "os.path\n",
      "<module 'posixpath' from '/Users/wimsuenens/.pyenv/versions/3.8.12/lib/python3.8/posixpath.py'>\n",
      "os.path\n",
      "/Users/wimsuenens/Projects/HoGent/DataEngineeringProjectII\n",
      "['/Users/wimsuenens/Projects/HoGent/DataEngineeringProjectII/notebooks', '/Users/wimsuenens/.pyenv/versions/3.8.12/lib/python38.zip', '/Users/wimsuenens/.pyenv/versions/3.8.12/lib/python3.8', '/Users/wimsuenens/.pyenv/versions/3.8.12/lib/python3.8/lib-dynload', '', '/Users/wimsuenens/.local/share/virtualenvs/DataEngineeringProjectII-bdwPgCe6/lib/python3.8/site-packages', '/Users/wimsuenens/.local/share/virtualenvs/DataEngineeringProjectII-bdwPgCe6/lib/python3.8/site-packages/IPython/extensions', '/Users/wimsuenens/.ipython', '/Users/wimsuenens/Projects/HoGent/DataEngineeringProjectII']\n",
      "/Users/wimsuenens/Projects/HoGent/DataEngineeringProjectII\n",
      "<class 'app.etl.pipeline.Pipeline'>\n"
     ]
    }
   ],
   "source": [
    "import os\n",
    "import sys\n",
    "module_path = os.path.abspath(os.path.join('..'))\n",
    "if module_path not in sys.path:\n",
    "    sys.path.append(module_path)\n",
    "\n",
    "import pandas as pd\n",
    "import numpy as np\n",
    "import openpyxl\n",
    "import sqlalchemy\n",
    "\n",
    "from sqlalchemy.orm import declarative_base\n",
    "from sqlalchemy.sql.schema import Column\n",
    "from sqlalchemy.sql.sqltypes import String, Integer, Date\n",
    "\n",
    "from settings import BASE_DIR\n",
    "print(BASE_DIR)\n",
    "\n",
    "from app.etl.pipeline import Pipeline\n",
    "print(Pipeline)\n",
    "\n",
    "pipeline = Pipeline\n",
    "\n",
    "# import os\n",
    "# print(os.getcwd())\n",
    "# from pathlib import Path\n",
    "\n",
    "# BASE_DIR = Path(os.getcwd()).resolve(strict=True).parent\n",
    "# from BASE_DIR import settings\n",
    "# print(BASE_DIR)"
   ]
  },
  {
   "cell_type": "markdown",
   "id": "bf040ab3",
   "metadata": {},
   "source": [
    "ETL - Pipeline | Extract - Transform - Load"
   ]
  },
  {
   "cell_type": "code",
   "execution_count": 9,
   "id": "01b5ea87",
   "metadata": {},
   "outputs": [],
   "source": [
    "Base = declarative_base()"
   ]
  },
  {
   "cell_type": "code",
   "execution_count": 10,
   "id": "5185aa47",
   "metadata": {},
   "outputs": [],
   "source": [
    "class CovidVacinationByCategory(Base):\n",
    "    __tablename__ = 'covid_vaccinations_by_category'\n",
    "    id = Column(Integer, primary_key=True, nullable=False)\n",
    "    date = Column(Date)\n",
    "    region = Column(String)\n",
    "    agegroup = Column(String)\n",
    "    sex = Column(String)\n",
    "    brand = Column(String)\n",
    "    dose = Column(String)\n",
    "    count = Column(Integer)\n",
    "    \n",
    "    def __repr__(self):\n",
    "        return \"\"\"\n",
    "            <BelgiumVacinationByCategory(date='%s', region='%s', agegroup='%s')>\n",
    "            \"\"\" % (self.date, self.region, self.agegroup)"
   ]
  },
  {
   "cell_type": "code",
   "execution_count": 2,
   "id": "447a7650",
   "metadata": {},
   "outputs": [],
   "source": [
    "data_frame = pd.read_csv(\"https://epistat.sciensano.be/Data/COVID19BE_VACC.csv\")"
   ]
  },
  {
   "cell_type": "code",
   "execution_count": 16,
   "id": "944aaead",
   "metadata": {},
   "outputs": [
    {
     "data": {
      "text/html": [
       "<div>\n",
       "<style scoped>\n",
       "    .dataframe tbody tr th:only-of-type {\n",
       "        vertical-align: middle;\n",
       "    }\n",
       "\n",
       "    .dataframe tbody tr th {\n",
       "        vertical-align: top;\n",
       "    }\n",
       "\n",
       "    .dataframe thead th {\n",
       "        text-align: right;\n",
       "    }\n",
       "</style>\n",
       "<table border=\"1\" class=\"dataframe\">\n",
       "  <thead>\n",
       "    <tr style=\"text-align: right;\">\n",
       "      <th></th>\n",
       "      <th>date</th>\n",
       "      <th>region</th>\n",
       "      <th>agegroup</th>\n",
       "      <th>sex</th>\n",
       "      <th>brand</th>\n",
       "      <th>dose</th>\n",
       "      <th>count</th>\n",
       "    </tr>\n",
       "  </thead>\n",
       "  <tbody>\n",
       "    <tr>\n",
       "      <th>0</th>\n",
       "      <td>2020-12-28</td>\n",
       "      <td>Brussels</td>\n",
       "      <td>25-34</td>\n",
       "      <td>F</td>\n",
       "      <td>Pfizer-BioNTech</td>\n",
       "      <td>A</td>\n",
       "      <td>1</td>\n",
       "    </tr>\n",
       "    <tr>\n",
       "      <th>1</th>\n",
       "      <td>2020-12-28</td>\n",
       "      <td>Brussels</td>\n",
       "      <td>45-54</td>\n",
       "      <td>F</td>\n",
       "      <td>Pfizer-BioNTech</td>\n",
       "      <td>A</td>\n",
       "      <td>2</td>\n",
       "    </tr>\n",
       "    <tr>\n",
       "      <th>2</th>\n",
       "      <td>2020-12-28</td>\n",
       "      <td>Brussels</td>\n",
       "      <td>55-64</td>\n",
       "      <td>F</td>\n",
       "      <td>Pfizer-BioNTech</td>\n",
       "      <td>A</td>\n",
       "      <td>3</td>\n",
       "    </tr>\n",
       "    <tr>\n",
       "      <th>3</th>\n",
       "      <td>2020-12-28</td>\n",
       "      <td>Brussels</td>\n",
       "      <td>55-64</td>\n",
       "      <td>M</td>\n",
       "      <td>Pfizer-BioNTech</td>\n",
       "      <td>A</td>\n",
       "      <td>1</td>\n",
       "    </tr>\n",
       "    <tr>\n",
       "      <th>4</th>\n",
       "      <td>2020-12-28</td>\n",
       "      <td>Brussels</td>\n",
       "      <td>65-74</td>\n",
       "      <td>F</td>\n",
       "      <td>Pfizer-BioNTech</td>\n",
       "      <td>A</td>\n",
       "      <td>2</td>\n",
       "    </tr>\n",
       "    <tr>\n",
       "      <th>...</th>\n",
       "      <td>...</td>\n",
       "      <td>...</td>\n",
       "      <td>...</td>\n",
       "      <td>...</td>\n",
       "      <td>...</td>\n",
       "      <td>...</td>\n",
       "      <td>...</td>\n",
       "    </tr>\n",
       "    <tr>\n",
       "      <th>94202</th>\n",
       "      <td>2021-10-07</td>\n",
       "      <td>Wallonia</td>\n",
       "      <td>75-84</td>\n",
       "      <td>M</td>\n",
       "      <td>Pfizer-BioNTech</td>\n",
       "      <td>E</td>\n",
       "      <td>67</td>\n",
       "    </tr>\n",
       "    <tr>\n",
       "      <th>94203</th>\n",
       "      <td>2021-10-07</td>\n",
       "      <td>Wallonia</td>\n",
       "      <td>85+</td>\n",
       "      <td>F</td>\n",
       "      <td>Johnson&amp;Johnson</td>\n",
       "      <td>C</td>\n",
       "      <td>1</td>\n",
       "    </tr>\n",
       "    <tr>\n",
       "      <th>94204</th>\n",
       "      <td>2021-10-07</td>\n",
       "      <td>Wallonia</td>\n",
       "      <td>85+</td>\n",
       "      <td>F</td>\n",
       "      <td>Pfizer-BioNTech</td>\n",
       "      <td>A</td>\n",
       "      <td>1</td>\n",
       "    </tr>\n",
       "    <tr>\n",
       "      <th>94205</th>\n",
       "      <td>2021-10-07</td>\n",
       "      <td>Wallonia</td>\n",
       "      <td>85+</td>\n",
       "      <td>F</td>\n",
       "      <td>Pfizer-BioNTech</td>\n",
       "      <td>E</td>\n",
       "      <td>234</td>\n",
       "    </tr>\n",
       "    <tr>\n",
       "      <th>94206</th>\n",
       "      <td>2021-10-07</td>\n",
       "      <td>Wallonia</td>\n",
       "      <td>85+</td>\n",
       "      <td>M</td>\n",
       "      <td>Pfizer-BioNTech</td>\n",
       "      <td>E</td>\n",
       "      <td>144</td>\n",
       "    </tr>\n",
       "  </tbody>\n",
       "</table>\n",
       "<p>94207 rows × 7 columns</p>\n",
       "</div>"
      ],
      "text/plain": [
       "             date    region agegroup sex            brand dose  count\n",
       "0      2020-12-28  Brussels    25-34   F  Pfizer-BioNTech    A      1\n",
       "1      2020-12-28  Brussels    45-54   F  Pfizer-BioNTech    A      2\n",
       "2      2020-12-28  Brussels    55-64   F  Pfizer-BioNTech    A      3\n",
       "3      2020-12-28  Brussels    55-64   M  Pfizer-BioNTech    A      1\n",
       "4      2020-12-28  Brussels    65-74   F  Pfizer-BioNTech    A      2\n",
       "...           ...       ...      ...  ..              ...  ...    ...\n",
       "94202  2021-10-07  Wallonia    75-84   M  Pfizer-BioNTech    E     67\n",
       "94203  2021-10-07  Wallonia      85+   F  Johnson&Johnson    C      1\n",
       "94204  2021-10-07  Wallonia      85+   F  Pfizer-BioNTech    A      1\n",
       "94205  2021-10-07  Wallonia      85+   F  Pfizer-BioNTech    E    234\n",
       "94206  2021-10-07  Wallonia      85+   M  Pfizer-BioNTech    E    144\n",
       "\n",
       "[94207 rows x 7 columns]"
      ]
     },
     "execution_count": 16,
     "metadata": {},
     "output_type": "execute_result"
    }
   ],
   "source": [
    "column_rename_dict = {\n",
    "    \"DATE\": \"date\",\n",
    "    \"REGION\": \"region\",\n",
    "    \"AGEGROUP\": \"agegroup\",\n",
    "    \"SEX\": \"sex\",\n",
    "    \"BRAND\": \"brand\",\n",
    "    \"DOSE\": \"dose\",\n",
    "    \"COUNT\": \"count\",\n",
    "}\n",
    "data_frame = data_frame.rename(columns=column_rename_dict)\n",
    "data_frame"
   ]
  },
  {
   "cell_type": "code",
   "execution_count": 14,
   "id": "6c5cb954",
   "metadata": {},
   "outputs": [],
   "source": [
    "list = [CovidVacinationByCategory(**kwargs) for kwargs in data_frame.to_dict(orient='records')]"
   ]
  }
 ],
 "metadata": {
  "kernelspec": {
   "display_name": "Python 3 (ipykernel)",
   "language": "python",
   "name": "python3"
  },
  "language_info": {
   "codemirror_mode": {
    "name": "ipython",
    "version": 3
   },
   "file_extension": ".py",
   "mimetype": "text/x-python",
   "name": "python",
   "nbconvert_exporter": "python",
   "pygments_lexer": "ipython3",
   "version": "3.8.12"
  }
 },
 "nbformat": 4,
 "nbformat_minor": 5
}
