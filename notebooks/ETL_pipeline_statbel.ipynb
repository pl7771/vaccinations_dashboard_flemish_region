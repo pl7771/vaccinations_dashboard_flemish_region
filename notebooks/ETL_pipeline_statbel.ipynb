{
 "cells": [
  {
   "cell_type": "code",
   "execution_count": 3,
   "metadata": {
    "collapsed": true
   },
   "outputs": [],
   "source": [
    "\n",
    "import pandas as pd\n",
    "import numpy as np\n",
    "import openpyxl\n",
    "import sqlalchemy\n",
    "\n",
    "from sqlalchemy.orm import declarative_base\n",
    "from sqlalchemy.sql.schema import Column\n",
    "from sqlalchemy.sql.sqltypes import String, Integer, Date"
   ]
  },
  {
   "cell_type": "code",
   "execution_count": 4,
   "metadata": {
    "pycharm": {
     "name": "#%%\n"
    }
   },
   "outputs": [],
   "source": [
    "df = pd.read_excel(\"https://statbel.fgov.be/sites/default/files/files/opendata/bevolking%20naar%20woonplaats%2C%20nationaliteit%20burgelijke%20staat%20%2C%20leeftijd%20en%20geslacht/TF_SOC_POP_STRUCT_2021.xlsx\")"
   ]
  },
  {
   "cell_type": "code",
   "execution_count": 5,
   "metadata": {
    "pycharm": {
     "name": "#%%\n"
    }
   },
   "outputs": [
    {
     "data": {
      "text/plain": "   CD_REFNIS TX_DESCR_NL TX_DESCR_FR  CD_DSTR_REFNIS  \\\n0      11001  Aartselaar  Aartselaar           11000   \n1      11001  Aartselaar  Aartselaar           11000   \n2      11001  Aartselaar  Aartselaar           11000   \n3      11001  Aartselaar  Aartselaar           11000   \n4      11001  Aartselaar  Aartselaar           11000   \n5      11001  Aartselaar  Aartselaar           11000   \n6      11001  Aartselaar  Aartselaar           11000   \n7      11001  Aartselaar  Aartselaar           11000   \n8      11001  Aartselaar  Aartselaar           11000   \n9      11001  Aartselaar  Aartselaar           11000   \n\n       TX_ADM_DSTR_DESCR_NL     TX_ADM_DSTR_DESCR_FR  CD_PROV_REFNIS  \\\n0  Arrondissement Antwerpen  Arrondissement d’Anvers         10000.0   \n1  Arrondissement Antwerpen  Arrondissement d’Anvers         10000.0   \n2  Arrondissement Antwerpen  Arrondissement d’Anvers         10000.0   \n3  Arrondissement Antwerpen  Arrondissement d’Anvers         10000.0   \n4  Arrondissement Antwerpen  Arrondissement d’Anvers         10000.0   \n5  Arrondissement Antwerpen  Arrondissement d’Anvers         10000.0   \n6  Arrondissement Antwerpen  Arrondissement d’Anvers         10000.0   \n7  Arrondissement Antwerpen  Arrondissement d’Anvers         10000.0   \n8  Arrondissement Antwerpen  Arrondissement d’Anvers         10000.0   \n9  Arrondissement Antwerpen  Arrondissement d’Anvers         10000.0   \n\n      TX_PROV_DESCR_NL   TX_PROV_DESCR_FR  CD_RGN_REFNIS  ...  \\\n0  Provincie Antwerpen  Province d’Anvers           2000  ...   \n1  Provincie Antwerpen  Province d’Anvers           2000  ...   \n2  Provincie Antwerpen  Province d’Anvers           2000  ...   \n3  Provincie Antwerpen  Province d’Anvers           2000  ...   \n4  Provincie Antwerpen  Province d’Anvers           2000  ...   \n5  Provincie Antwerpen  Province d’Anvers           2000  ...   \n6  Provincie Antwerpen  Province d’Anvers           2000  ...   \n7  Provincie Antwerpen  Province d’Anvers           2000  ...   \n8  Provincie Antwerpen  Province d’Anvers           2000  ...   \n9  Provincie Antwerpen  Province d’Anvers           2000  ...   \n\n   TX_RGN_DESCR_FR CD_SEX CD_NATLTY TX_NATLTY_NL TX_NATLTY_FR CD_CIV_STS  \\\n0  Région flamande      M       BEL       Belgen       Belges          4   \n1  Région flamande      F       BEL       Belgen       Belges          4   \n2  Région flamande      F       BEL       Belgen       Belges          4   \n3  Région flamande      F       BEL       Belgen       Belges          4   \n4  Région flamande      M       BEL       Belgen       Belges          4   \n5  Région flamande      M       BEL       Belgen       Belges          4   \n6  Région flamande      F       BEL       Belgen       Belges          4   \n7  Région flamande      M       BEL       Belgen       Belges          4   \n8  Région flamande      F       BEL       Belgen       Belges          4   \n9  Région flamande      F       BEL       Belgen       Belges          4   \n\n   TX_CIV_STS_NL TX_CIV_STS_FR CD_AGE  MS_POPULATION  \n0     Gescheiden       Divorcé     85              2  \n1     Gescheiden       Divorcé     54             21  \n2     Gescheiden       Divorcé     61             14  \n3     Gescheiden       Divorcé     64             21  \n4     Gescheiden       Divorcé     76              5  \n5     Gescheiden       Divorcé     75              5  \n6     Gescheiden       Divorcé     80              4  \n7     Gescheiden       Divorcé     74             10  \n8     Gescheiden       Divorcé     30              4  \n9     Gescheiden       Divorcé     65             16  \n\n[10 rows x 21 columns]",
      "text/html": "<div>\n<style scoped>\n    .dataframe tbody tr th:only-of-type {\n        vertical-align: middle;\n    }\n\n    .dataframe tbody tr th {\n        vertical-align: top;\n    }\n\n    .dataframe thead th {\n        text-align: right;\n    }\n</style>\n<table border=\"1\" class=\"dataframe\">\n  <thead>\n    <tr style=\"text-align: right;\">\n      <th></th>\n      <th>CD_REFNIS</th>\n      <th>TX_DESCR_NL</th>\n      <th>TX_DESCR_FR</th>\n      <th>CD_DSTR_REFNIS</th>\n      <th>TX_ADM_DSTR_DESCR_NL</th>\n      <th>TX_ADM_DSTR_DESCR_FR</th>\n      <th>CD_PROV_REFNIS</th>\n      <th>TX_PROV_DESCR_NL</th>\n      <th>TX_PROV_DESCR_FR</th>\n      <th>CD_RGN_REFNIS</th>\n      <th>...</th>\n      <th>TX_RGN_DESCR_FR</th>\n      <th>CD_SEX</th>\n      <th>CD_NATLTY</th>\n      <th>TX_NATLTY_NL</th>\n      <th>TX_NATLTY_FR</th>\n      <th>CD_CIV_STS</th>\n      <th>TX_CIV_STS_NL</th>\n      <th>TX_CIV_STS_FR</th>\n      <th>CD_AGE</th>\n      <th>MS_POPULATION</th>\n    </tr>\n  </thead>\n  <tbody>\n    <tr>\n      <th>0</th>\n      <td>11001</td>\n      <td>Aartselaar</td>\n      <td>Aartselaar</td>\n      <td>11000</td>\n      <td>Arrondissement Antwerpen</td>\n      <td>Arrondissement d’Anvers</td>\n      <td>10000.0</td>\n      <td>Provincie Antwerpen</td>\n      <td>Province d’Anvers</td>\n      <td>2000</td>\n      <td>...</td>\n      <td>Région flamande</td>\n      <td>M</td>\n      <td>BEL</td>\n      <td>Belgen</td>\n      <td>Belges</td>\n      <td>4</td>\n      <td>Gescheiden</td>\n      <td>Divorcé</td>\n      <td>85</td>\n      <td>2</td>\n    </tr>\n    <tr>\n      <th>1</th>\n      <td>11001</td>\n      <td>Aartselaar</td>\n      <td>Aartselaar</td>\n      <td>11000</td>\n      <td>Arrondissement Antwerpen</td>\n      <td>Arrondissement d’Anvers</td>\n      <td>10000.0</td>\n      <td>Provincie Antwerpen</td>\n      <td>Province d’Anvers</td>\n      <td>2000</td>\n      <td>...</td>\n      <td>Région flamande</td>\n      <td>F</td>\n      <td>BEL</td>\n      <td>Belgen</td>\n      <td>Belges</td>\n      <td>4</td>\n      <td>Gescheiden</td>\n      <td>Divorcé</td>\n      <td>54</td>\n      <td>21</td>\n    </tr>\n    <tr>\n      <th>2</th>\n      <td>11001</td>\n      <td>Aartselaar</td>\n      <td>Aartselaar</td>\n      <td>11000</td>\n      <td>Arrondissement Antwerpen</td>\n      <td>Arrondissement d’Anvers</td>\n      <td>10000.0</td>\n      <td>Provincie Antwerpen</td>\n      <td>Province d’Anvers</td>\n      <td>2000</td>\n      <td>...</td>\n      <td>Région flamande</td>\n      <td>F</td>\n      <td>BEL</td>\n      <td>Belgen</td>\n      <td>Belges</td>\n      <td>4</td>\n      <td>Gescheiden</td>\n      <td>Divorcé</td>\n      <td>61</td>\n      <td>14</td>\n    </tr>\n    <tr>\n      <th>3</th>\n      <td>11001</td>\n      <td>Aartselaar</td>\n      <td>Aartselaar</td>\n      <td>11000</td>\n      <td>Arrondissement Antwerpen</td>\n      <td>Arrondissement d’Anvers</td>\n      <td>10000.0</td>\n      <td>Provincie Antwerpen</td>\n      <td>Province d’Anvers</td>\n      <td>2000</td>\n      <td>...</td>\n      <td>Région flamande</td>\n      <td>F</td>\n      <td>BEL</td>\n      <td>Belgen</td>\n      <td>Belges</td>\n      <td>4</td>\n      <td>Gescheiden</td>\n      <td>Divorcé</td>\n      <td>64</td>\n      <td>21</td>\n    </tr>\n    <tr>\n      <th>4</th>\n      <td>11001</td>\n      <td>Aartselaar</td>\n      <td>Aartselaar</td>\n      <td>11000</td>\n      <td>Arrondissement Antwerpen</td>\n      <td>Arrondissement d’Anvers</td>\n      <td>10000.0</td>\n      <td>Provincie Antwerpen</td>\n      <td>Province d’Anvers</td>\n      <td>2000</td>\n      <td>...</td>\n      <td>Région flamande</td>\n      <td>M</td>\n      <td>BEL</td>\n      <td>Belgen</td>\n      <td>Belges</td>\n      <td>4</td>\n      <td>Gescheiden</td>\n      <td>Divorcé</td>\n      <td>76</td>\n      <td>5</td>\n    </tr>\n    <tr>\n      <th>5</th>\n      <td>11001</td>\n      <td>Aartselaar</td>\n      <td>Aartselaar</td>\n      <td>11000</td>\n      <td>Arrondissement Antwerpen</td>\n      <td>Arrondissement d’Anvers</td>\n      <td>10000.0</td>\n      <td>Provincie Antwerpen</td>\n      <td>Province d’Anvers</td>\n      <td>2000</td>\n      <td>...</td>\n      <td>Région flamande</td>\n      <td>M</td>\n      <td>BEL</td>\n      <td>Belgen</td>\n      <td>Belges</td>\n      <td>4</td>\n      <td>Gescheiden</td>\n      <td>Divorcé</td>\n      <td>75</td>\n      <td>5</td>\n    </tr>\n    <tr>\n      <th>6</th>\n      <td>11001</td>\n      <td>Aartselaar</td>\n      <td>Aartselaar</td>\n      <td>11000</td>\n      <td>Arrondissement Antwerpen</td>\n      <td>Arrondissement d’Anvers</td>\n      <td>10000.0</td>\n      <td>Provincie Antwerpen</td>\n      <td>Province d’Anvers</td>\n      <td>2000</td>\n      <td>...</td>\n      <td>Région flamande</td>\n      <td>F</td>\n      <td>BEL</td>\n      <td>Belgen</td>\n      <td>Belges</td>\n      <td>4</td>\n      <td>Gescheiden</td>\n      <td>Divorcé</td>\n      <td>80</td>\n      <td>4</td>\n    </tr>\n    <tr>\n      <th>7</th>\n      <td>11001</td>\n      <td>Aartselaar</td>\n      <td>Aartselaar</td>\n      <td>11000</td>\n      <td>Arrondissement Antwerpen</td>\n      <td>Arrondissement d’Anvers</td>\n      <td>10000.0</td>\n      <td>Provincie Antwerpen</td>\n      <td>Province d’Anvers</td>\n      <td>2000</td>\n      <td>...</td>\n      <td>Région flamande</td>\n      <td>M</td>\n      <td>BEL</td>\n      <td>Belgen</td>\n      <td>Belges</td>\n      <td>4</td>\n      <td>Gescheiden</td>\n      <td>Divorcé</td>\n      <td>74</td>\n      <td>10</td>\n    </tr>\n    <tr>\n      <th>8</th>\n      <td>11001</td>\n      <td>Aartselaar</td>\n      <td>Aartselaar</td>\n      <td>11000</td>\n      <td>Arrondissement Antwerpen</td>\n      <td>Arrondissement d’Anvers</td>\n      <td>10000.0</td>\n      <td>Provincie Antwerpen</td>\n      <td>Province d’Anvers</td>\n      <td>2000</td>\n      <td>...</td>\n      <td>Région flamande</td>\n      <td>F</td>\n      <td>BEL</td>\n      <td>Belgen</td>\n      <td>Belges</td>\n      <td>4</td>\n      <td>Gescheiden</td>\n      <td>Divorcé</td>\n      <td>30</td>\n      <td>4</td>\n    </tr>\n    <tr>\n      <th>9</th>\n      <td>11001</td>\n      <td>Aartselaar</td>\n      <td>Aartselaar</td>\n      <td>11000</td>\n      <td>Arrondissement Antwerpen</td>\n      <td>Arrondissement d’Anvers</td>\n      <td>10000.0</td>\n      <td>Provincie Antwerpen</td>\n      <td>Province d’Anvers</td>\n      <td>2000</td>\n      <td>...</td>\n      <td>Région flamande</td>\n      <td>F</td>\n      <td>BEL</td>\n      <td>Belgen</td>\n      <td>Belges</td>\n      <td>4</td>\n      <td>Gescheiden</td>\n      <td>Divorcé</td>\n      <td>65</td>\n      <td>16</td>\n    </tr>\n  </tbody>\n</table>\n<p>10 rows × 21 columns</p>\n</div>"
     },
     "execution_count": 5,
     "metadata": {},
     "output_type": "execute_result"
    }
   ],
   "source": [
    "df.head(10)"
   ]
  },
  {
   "cell_type": "code",
   "execution_count": 6,
   "metadata": {
    "pycharm": {
     "name": "#%%\n"
    }
   },
   "outputs": [
    {
     "data": {
      "text/plain": "Index(['CD_REFNIS', 'TX_DESCR_NL', 'TX_DESCR_FR', 'CD_DSTR_REFNIS',\n       'TX_ADM_DSTR_DESCR_NL', 'TX_ADM_DSTR_DESCR_FR', 'CD_PROV_REFNIS',\n       'TX_PROV_DESCR_NL', 'TX_PROV_DESCR_FR', 'CD_RGN_REFNIS',\n       'TX_RGN_DESCR_NL', 'TX_RGN_DESCR_FR', 'CD_SEX', 'CD_NATLTY',\n       'TX_NATLTY_NL', 'TX_NATLTY_FR', 'CD_CIV_STS', 'TX_CIV_STS_NL',\n       'TX_CIV_STS_FR', 'CD_AGE', 'MS_POPULATION'],\n      dtype='object')"
     },
     "execution_count": 6,
     "metadata": {},
     "output_type": "execute_result"
    }
   ],
   "source": [
    "df.columns\n"
   ]
  },
  {
   "cell_type": "code",
   "execution_count": 7,
   "outputs": [],
   "source": [
    "df.drop(['CD_DSTR_REFNIS', 'TX_DESCR_FR', 'TX_ADM_DSTR_DESCR_FR', 'TX_PROV_DESCR_FR', 'TX_RGN_DESCR_FR', 'TX_NATLTY_FR', 'TX_CIV_STS_FR'], axis=1, inplace=True)"
   ],
   "metadata": {
    "collapsed": false,
    "pycharm": {
     "name": "#%%\n"
    }
   }
  },
  {
   "cell_type": "code",
   "execution_count": 8,
   "outputs": [
    {
     "data": {
      "text/plain": "(467027, 14)"
     },
     "execution_count": 8,
     "metadata": {},
     "output_type": "execute_result"
    }
   ],
   "source": [
    "df.shape"
   ],
   "metadata": {
    "collapsed": false,
    "pycharm": {
     "name": "#%%\n"
    }
   }
  },
  {
   "cell_type": "code",
   "execution_count": 9,
   "outputs": [],
   "source": [
    "df.dropna(inplace=True)"
   ],
   "metadata": {
    "collapsed": false,
    "pycharm": {
     "name": "#%%\n"
    }
   }
  },
  {
   "cell_type": "code",
   "execution_count": 10,
   "outputs": [
    {
     "data": {
      "text/plain": "Index(['CD_REFNIS', 'TX_DESCR_NL', 'TX_ADM_DSTR_DESCR_NL', 'CD_PROV_REFNIS',\n       'TX_PROV_DESCR_NL', 'CD_RGN_REFNIS', 'TX_RGN_DESCR_NL', 'CD_SEX',\n       'CD_NATLTY', 'TX_NATLTY_NL', 'CD_CIV_STS', 'TX_CIV_STS_NL', 'CD_AGE',\n       'MS_POPULATION'],\n      dtype='object')"
     },
     "execution_count": 10,
     "metadata": {},
     "output_type": "execute_result"
    }
   ],
   "source": [
    "df.columns"
   ],
   "metadata": {
    "collapsed": false,
    "pycharm": {
     "name": "#%%\n"
    }
   }
  },
  {
   "cell_type": "code",
   "execution_count": 11,
   "outputs": [
    {
     "data": {
      "text/plain": "        CD_REFNIS TX_DESCR_NL          TX_ADM_DSTR_DESCR_NL  CD_PROV_REFNIS  \\\n0           11001  Aartselaar      Arrondissement Antwerpen         10000.0   \n1           11001  Aartselaar      Arrondissement Antwerpen         10000.0   \n2           11001  Aartselaar      Arrondissement Antwerpen         10000.0   \n3           11001  Aartselaar      Arrondissement Antwerpen         10000.0   \n4           11001  Aartselaar      Arrondissement Antwerpen         10000.0   \n...           ...         ...                           ...             ...   \n467022      93090   Viroinval  Arrondissement Philippeville         90000.0   \n467023      93090   Viroinval  Arrondissement Philippeville         90000.0   \n467024      93090   Viroinval  Arrondissement Philippeville         90000.0   \n467025      93090   Viroinval  Arrondissement Philippeville         90000.0   \n467026      93090   Viroinval  Arrondissement Philippeville         90000.0   \n\n           TX_PROV_DESCR_NL  CD_RGN_REFNIS TX_RGN_DESCR_NL CD_SEX CD_NATLTY  \\\n0       Provincie Antwerpen           2000   Vlaams Gewest      M       BEL   \n1       Provincie Antwerpen           2000   Vlaams Gewest      F       BEL   \n2       Provincie Antwerpen           2000   Vlaams Gewest      F       BEL   \n3       Provincie Antwerpen           2000   Vlaams Gewest      F       BEL   \n4       Provincie Antwerpen           2000   Vlaams Gewest      M       BEL   \n...                     ...            ...             ...    ...       ...   \n467022      Provincie Namen           3000    Waals Gewest      M       BEL   \n467023      Provincie Namen           3000    Waals Gewest      F       BEL   \n467024      Provincie Namen           3000    Waals Gewest      F       BEL   \n467025      Provincie Namen           3000    Waals Gewest      M       BEL   \n467026      Provincie Namen           3000    Waals Gewest      M       BEL   \n\n       TX_NATLTY_NL  CD_CIV_STS TX_CIV_STS_NL  CD_AGE  MS_POPULATION  \n0            Belgen           4    Gescheiden      85              2  \n1            Belgen           4    Gescheiden      54             21  \n2            Belgen           4    Gescheiden      61             14  \n3            Belgen           4    Gescheiden      64             21  \n4            Belgen           4    Gescheiden      76              5  \n...             ...         ...           ...     ...            ...  \n467022       Belgen           2        Gehuwd      61             21  \n467023       Belgen           2        Gehuwd      57             20  \n467024       Belgen           2        Gehuwd      53             22  \n467025       Belgen           2        Gehuwd      68             11  \n467026       Belgen           2        Gehuwd      62             28  \n\n[445580 rows x 14 columns]",
      "text/html": "<div>\n<style scoped>\n    .dataframe tbody tr th:only-of-type {\n        vertical-align: middle;\n    }\n\n    .dataframe tbody tr th {\n        vertical-align: top;\n    }\n\n    .dataframe thead th {\n        text-align: right;\n    }\n</style>\n<table border=\"1\" class=\"dataframe\">\n  <thead>\n    <tr style=\"text-align: right;\">\n      <th></th>\n      <th>CD_REFNIS</th>\n      <th>TX_DESCR_NL</th>\n      <th>TX_ADM_DSTR_DESCR_NL</th>\n      <th>CD_PROV_REFNIS</th>\n      <th>TX_PROV_DESCR_NL</th>\n      <th>CD_RGN_REFNIS</th>\n      <th>TX_RGN_DESCR_NL</th>\n      <th>CD_SEX</th>\n      <th>CD_NATLTY</th>\n      <th>TX_NATLTY_NL</th>\n      <th>CD_CIV_STS</th>\n      <th>TX_CIV_STS_NL</th>\n      <th>CD_AGE</th>\n      <th>MS_POPULATION</th>\n    </tr>\n  </thead>\n  <tbody>\n    <tr>\n      <th>0</th>\n      <td>11001</td>\n      <td>Aartselaar</td>\n      <td>Arrondissement Antwerpen</td>\n      <td>10000.0</td>\n      <td>Provincie Antwerpen</td>\n      <td>2000</td>\n      <td>Vlaams Gewest</td>\n      <td>M</td>\n      <td>BEL</td>\n      <td>Belgen</td>\n      <td>4</td>\n      <td>Gescheiden</td>\n      <td>85</td>\n      <td>2</td>\n    </tr>\n    <tr>\n      <th>1</th>\n      <td>11001</td>\n      <td>Aartselaar</td>\n      <td>Arrondissement Antwerpen</td>\n      <td>10000.0</td>\n      <td>Provincie Antwerpen</td>\n      <td>2000</td>\n      <td>Vlaams Gewest</td>\n      <td>F</td>\n      <td>BEL</td>\n      <td>Belgen</td>\n      <td>4</td>\n      <td>Gescheiden</td>\n      <td>54</td>\n      <td>21</td>\n    </tr>\n    <tr>\n      <th>2</th>\n      <td>11001</td>\n      <td>Aartselaar</td>\n      <td>Arrondissement Antwerpen</td>\n      <td>10000.0</td>\n      <td>Provincie Antwerpen</td>\n      <td>2000</td>\n      <td>Vlaams Gewest</td>\n      <td>F</td>\n      <td>BEL</td>\n      <td>Belgen</td>\n      <td>4</td>\n      <td>Gescheiden</td>\n      <td>61</td>\n      <td>14</td>\n    </tr>\n    <tr>\n      <th>3</th>\n      <td>11001</td>\n      <td>Aartselaar</td>\n      <td>Arrondissement Antwerpen</td>\n      <td>10000.0</td>\n      <td>Provincie Antwerpen</td>\n      <td>2000</td>\n      <td>Vlaams Gewest</td>\n      <td>F</td>\n      <td>BEL</td>\n      <td>Belgen</td>\n      <td>4</td>\n      <td>Gescheiden</td>\n      <td>64</td>\n      <td>21</td>\n    </tr>\n    <tr>\n      <th>4</th>\n      <td>11001</td>\n      <td>Aartselaar</td>\n      <td>Arrondissement Antwerpen</td>\n      <td>10000.0</td>\n      <td>Provincie Antwerpen</td>\n      <td>2000</td>\n      <td>Vlaams Gewest</td>\n      <td>M</td>\n      <td>BEL</td>\n      <td>Belgen</td>\n      <td>4</td>\n      <td>Gescheiden</td>\n      <td>76</td>\n      <td>5</td>\n    </tr>\n    <tr>\n      <th>...</th>\n      <td>...</td>\n      <td>...</td>\n      <td>...</td>\n      <td>...</td>\n      <td>...</td>\n      <td>...</td>\n      <td>...</td>\n      <td>...</td>\n      <td>...</td>\n      <td>...</td>\n      <td>...</td>\n      <td>...</td>\n      <td>...</td>\n      <td>...</td>\n    </tr>\n    <tr>\n      <th>467022</th>\n      <td>93090</td>\n      <td>Viroinval</td>\n      <td>Arrondissement Philippeville</td>\n      <td>90000.0</td>\n      <td>Provincie Namen</td>\n      <td>3000</td>\n      <td>Waals Gewest</td>\n      <td>M</td>\n      <td>BEL</td>\n      <td>Belgen</td>\n      <td>2</td>\n      <td>Gehuwd</td>\n      <td>61</td>\n      <td>21</td>\n    </tr>\n    <tr>\n      <th>467023</th>\n      <td>93090</td>\n      <td>Viroinval</td>\n      <td>Arrondissement Philippeville</td>\n      <td>90000.0</td>\n      <td>Provincie Namen</td>\n      <td>3000</td>\n      <td>Waals Gewest</td>\n      <td>F</td>\n      <td>BEL</td>\n      <td>Belgen</td>\n      <td>2</td>\n      <td>Gehuwd</td>\n      <td>57</td>\n      <td>20</td>\n    </tr>\n    <tr>\n      <th>467024</th>\n      <td>93090</td>\n      <td>Viroinval</td>\n      <td>Arrondissement Philippeville</td>\n      <td>90000.0</td>\n      <td>Provincie Namen</td>\n      <td>3000</td>\n      <td>Waals Gewest</td>\n      <td>F</td>\n      <td>BEL</td>\n      <td>Belgen</td>\n      <td>2</td>\n      <td>Gehuwd</td>\n      <td>53</td>\n      <td>22</td>\n    </tr>\n    <tr>\n      <th>467025</th>\n      <td>93090</td>\n      <td>Viroinval</td>\n      <td>Arrondissement Philippeville</td>\n      <td>90000.0</td>\n      <td>Provincie Namen</td>\n      <td>3000</td>\n      <td>Waals Gewest</td>\n      <td>M</td>\n      <td>BEL</td>\n      <td>Belgen</td>\n      <td>2</td>\n      <td>Gehuwd</td>\n      <td>68</td>\n      <td>11</td>\n    </tr>\n    <tr>\n      <th>467026</th>\n      <td>93090</td>\n      <td>Viroinval</td>\n      <td>Arrondissement Philippeville</td>\n      <td>90000.0</td>\n      <td>Provincie Namen</td>\n      <td>3000</td>\n      <td>Waals Gewest</td>\n      <td>M</td>\n      <td>BEL</td>\n      <td>Belgen</td>\n      <td>2</td>\n      <td>Gehuwd</td>\n      <td>62</td>\n      <td>28</td>\n    </tr>\n  </tbody>\n</table>\n<p>445580 rows × 14 columns</p>\n</div>"
     },
     "execution_count": 11,
     "metadata": {},
     "output_type": "execute_result"
    }
   ],
   "source": [
    "column_rename_dict = {\n",
    "    \"CD_REFNIS\": \"gemeente_niscode\",\n",
    "    \"TX_DESCR_NL\": \"gemeente_naam\",\n",
    "    \"TX_ADM_DSTR_DESCR_NL\": \"arrondissement_naam\",\n",
    "    \"SEX\": \"sex\",\n",
    "    \"BRAND\": \"brand\",\n",
    "    \"DOSE\": \"dose\",\n",
    "    \"COUNT\": \"count\",\n",
    "}\n",
    "# df = df.rename(columns=column_rename_dict)\n",
    "df"
   ],
   "metadata": {
    "collapsed": false,
    "pycharm": {
     "name": "#%%\n"
    }
   }
  },
  {
   "cell_type": "code",
   "execution_count": 11,
   "outputs": [],
   "source": [],
   "metadata": {
    "collapsed": false,
    "pycharm": {
     "name": "#%%\n"
    }
   }
  }
 ],
 "metadata": {
  "kernelspec": {
   "display_name": "Python 3 (ipykernel)",
   "language": "python",
   "name": "python3"
  },
  "language_info": {
   "codemirror_mode": {
    "name": "ipython",
    "version": 3
   },
   "file_extension": ".py",
   "mimetype": "text/x-python",
   "name": "python",
   "nbconvert_exporter": "python",
   "pygments_lexer": "ipython3",
   "version": "3.8.0"
  }
 },
 "nbformat": 4,
 "nbformat_minor": 1
}